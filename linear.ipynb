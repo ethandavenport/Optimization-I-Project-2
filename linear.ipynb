{
  "nbformat": 4,
  "nbformat_minor": 0,
  "metadata": {
    "colab": {
      "provenance": [],
      "authorship_tag": "ABX9TyPjqhC3lhjrzaQeLQF7WHHt",
      "include_colab_link": true
    },
    "kernelspec": {
      "name": "python3",
      "display_name": "Python 3"
    },
    "language_info": {
      "name": "python"
    }
  },
  "cells": [
    {
      "cell_type": "markdown",
      "metadata": {
        "id": "view-in-github",
        "colab_type": "text"
      },
      "source": [
        "<a href=\"https://colab.research.google.com/github/ethandavenport/Optimization-I-Project-2/blob/main/linear.ipynb\" target=\"_parent\"><img src=\"https://colab.research.google.com/assets/colab-badge.svg\" alt=\"Open In Colab\"/></a>"
      ]
    },
    {
      "cell_type": "code",
      "execution_count": 1,
      "metadata": {
        "id": "jKOUnaoKnmKt",
        "outputId": "2746e85e-ac2f-42df-b2fb-215e8a8b8514",
        "colab": {
          "base_uri": "https://localhost:8080/"
        }
      },
      "outputs": [
        {
          "output_type": "stream",
          "name": "stdout",
          "text": [
            "Requirement already satisfied: gurobipy in /usr/local/lib/python3.12/dist-packages (12.0.3)\n"
          ]
        }
      ],
      "source": [
        "!pip install gurobipy"
      ]
    },
    {
      "cell_type": "code",
      "source": [
        "import gurobipy as gp\n",
        "from gurobipy import GRB\n",
        "import pandas as pd\n",
        "import numpy as np"
      ],
      "metadata": {
        "id": "aYfGdpY3og0g"
      },
      "execution_count": 2,
      "outputs": []
    },
    {
      "cell_type": "code",
      "source": [
        "url = \"https://raw.githubusercontent.com/ethandavenport/Optimization-I-Project-2/main/roi_company1.csv\"\n",
        "df_roi = pd.read_csv(url)"
      ],
      "metadata": {
        "id": "FflOWSGliVei"
      },
      "execution_count": 3,
      "outputs": []
    },
    {
      "cell_type": "code",
      "source": [
        "df_roi.head()"
      ],
      "metadata": {
        "colab": {
          "base_uri": "https://localhost:8080/",
          "height": 206
        },
        "id": "sqsDXYMYe2vs",
        "outputId": "3d2d001b-7a9b-4c35-8484-bdec5218645a"
      },
      "execution_count": 4,
      "outputs": [
        {
          "output_type": "execute_result",
          "data": {
            "text/plain": [
              "  Platform  Tier  LowerBound  UpperBound     ROI\n",
              "0    Print     1         0.0         0.7  0.0345\n",
              "1    Print     2         0.7         2.7  0.0305\n",
              "2    Print     3         2.7         4.7  0.0276\n",
              "3    Print     4         4.7         inf  0.0234\n",
              "4       TV     1         0.0         4.3  0.0608"
            ],
            "text/html": [
              "\n",
              "  <div id=\"df-2e503e73-f569-4ccf-84e0-b6bdacb7b8a5\" class=\"colab-df-container\">\n",
              "    <div>\n",
              "<style scoped>\n",
              "    .dataframe tbody tr th:only-of-type {\n",
              "        vertical-align: middle;\n",
              "    }\n",
              "\n",
              "    .dataframe tbody tr th {\n",
              "        vertical-align: top;\n",
              "    }\n",
              "\n",
              "    .dataframe thead th {\n",
              "        text-align: right;\n",
              "    }\n",
              "</style>\n",
              "<table border=\"1\" class=\"dataframe\">\n",
              "  <thead>\n",
              "    <tr style=\"text-align: right;\">\n",
              "      <th></th>\n",
              "      <th>Platform</th>\n",
              "      <th>Tier</th>\n",
              "      <th>LowerBound</th>\n",
              "      <th>UpperBound</th>\n",
              "      <th>ROI</th>\n",
              "    </tr>\n",
              "  </thead>\n",
              "  <tbody>\n",
              "    <tr>\n",
              "      <th>0</th>\n",
              "      <td>Print</td>\n",
              "      <td>1</td>\n",
              "      <td>0.0</td>\n",
              "      <td>0.7</td>\n",
              "      <td>0.0345</td>\n",
              "    </tr>\n",
              "    <tr>\n",
              "      <th>1</th>\n",
              "      <td>Print</td>\n",
              "      <td>2</td>\n",
              "      <td>0.7</td>\n",
              "      <td>2.7</td>\n",
              "      <td>0.0305</td>\n",
              "    </tr>\n",
              "    <tr>\n",
              "      <th>2</th>\n",
              "      <td>Print</td>\n",
              "      <td>3</td>\n",
              "      <td>2.7</td>\n",
              "      <td>4.7</td>\n",
              "      <td>0.0276</td>\n",
              "    </tr>\n",
              "    <tr>\n",
              "      <th>3</th>\n",
              "      <td>Print</td>\n",
              "      <td>4</td>\n",
              "      <td>4.7</td>\n",
              "      <td>inf</td>\n",
              "      <td>0.0234</td>\n",
              "    </tr>\n",
              "    <tr>\n",
              "      <th>4</th>\n",
              "      <td>TV</td>\n",
              "      <td>1</td>\n",
              "      <td>0.0</td>\n",
              "      <td>4.3</td>\n",
              "      <td>0.0608</td>\n",
              "    </tr>\n",
              "  </tbody>\n",
              "</table>\n",
              "</div>\n",
              "    <div class=\"colab-df-buttons\">\n",
              "\n",
              "  <div class=\"colab-df-container\">\n",
              "    <button class=\"colab-df-convert\" onclick=\"convertToInteractive('df-2e503e73-f569-4ccf-84e0-b6bdacb7b8a5')\"\n",
              "            title=\"Convert this dataframe to an interactive table.\"\n",
              "            style=\"display:none;\">\n",
              "\n",
              "  <svg xmlns=\"http://www.w3.org/2000/svg\" height=\"24px\" viewBox=\"0 -960 960 960\">\n",
              "    <path d=\"M120-120v-720h720v720H120Zm60-500h600v-160H180v160Zm220 220h160v-160H400v160Zm0 220h160v-160H400v160ZM180-400h160v-160H180v160Zm440 0h160v-160H620v160ZM180-180h160v-160H180v160Zm440 0h160v-160H620v160Z\"/>\n",
              "  </svg>\n",
              "    </button>\n",
              "\n",
              "  <style>\n",
              "    .colab-df-container {\n",
              "      display:flex;\n",
              "      gap: 12px;\n",
              "    }\n",
              "\n",
              "    .colab-df-convert {\n",
              "      background-color: #E8F0FE;\n",
              "      border: none;\n",
              "      border-radius: 50%;\n",
              "      cursor: pointer;\n",
              "      display: none;\n",
              "      fill: #1967D2;\n",
              "      height: 32px;\n",
              "      padding: 0 0 0 0;\n",
              "      width: 32px;\n",
              "    }\n",
              "\n",
              "    .colab-df-convert:hover {\n",
              "      background-color: #E2EBFA;\n",
              "      box-shadow: 0px 1px 2px rgba(60, 64, 67, 0.3), 0px 1px 3px 1px rgba(60, 64, 67, 0.15);\n",
              "      fill: #174EA6;\n",
              "    }\n",
              "\n",
              "    .colab-df-buttons div {\n",
              "      margin-bottom: 4px;\n",
              "    }\n",
              "\n",
              "    [theme=dark] .colab-df-convert {\n",
              "      background-color: #3B4455;\n",
              "      fill: #D2E3FC;\n",
              "    }\n",
              "\n",
              "    [theme=dark] .colab-df-convert:hover {\n",
              "      background-color: #434B5C;\n",
              "      box-shadow: 0px 1px 3px 1px rgba(0, 0, 0, 0.15);\n",
              "      filter: drop-shadow(0px 1px 2px rgba(0, 0, 0, 0.3));\n",
              "      fill: #FFFFFF;\n",
              "    }\n",
              "  </style>\n",
              "\n",
              "    <script>\n",
              "      const buttonEl =\n",
              "        document.querySelector('#df-2e503e73-f569-4ccf-84e0-b6bdacb7b8a5 button.colab-df-convert');\n",
              "      buttonEl.style.display =\n",
              "        google.colab.kernel.accessAllowed ? 'block' : 'none';\n",
              "\n",
              "      async function convertToInteractive(key) {\n",
              "        const element = document.querySelector('#df-2e503e73-f569-4ccf-84e0-b6bdacb7b8a5');\n",
              "        const dataTable =\n",
              "          await google.colab.kernel.invokeFunction('convertToInteractive',\n",
              "                                                    [key], {});\n",
              "        if (!dataTable) return;\n",
              "\n",
              "        const docLinkHtml = 'Like what you see? Visit the ' +\n",
              "          '<a target=\"_blank\" href=https://colab.research.google.com/notebooks/data_table.ipynb>data table notebook</a>'\n",
              "          + ' to learn more about interactive tables.';\n",
              "        element.innerHTML = '';\n",
              "        dataTable['output_type'] = 'display_data';\n",
              "        await google.colab.output.renderOutput(dataTable, element);\n",
              "        const docLink = document.createElement('div');\n",
              "        docLink.innerHTML = docLinkHtml;\n",
              "        element.appendChild(docLink);\n",
              "      }\n",
              "    </script>\n",
              "  </div>\n",
              "\n",
              "\n",
              "    <div id=\"df-f8153d6f-f7a8-47a9-93c1-d37dc291ca3f\">\n",
              "      <button class=\"colab-df-quickchart\" onclick=\"quickchart('df-f8153d6f-f7a8-47a9-93c1-d37dc291ca3f')\"\n",
              "                title=\"Suggest charts\"\n",
              "                style=\"display:none;\">\n",
              "\n",
              "<svg xmlns=\"http://www.w3.org/2000/svg\" height=\"24px\"viewBox=\"0 0 24 24\"\n",
              "     width=\"24px\">\n",
              "    <g>\n",
              "        <path d=\"M19 3H5c-1.1 0-2 .9-2 2v14c0 1.1.9 2 2 2h14c1.1 0 2-.9 2-2V5c0-1.1-.9-2-2-2zM9 17H7v-7h2v7zm4 0h-2V7h2v10zm4 0h-2v-4h2v4z\"/>\n",
              "    </g>\n",
              "</svg>\n",
              "      </button>\n",
              "\n",
              "<style>\n",
              "  .colab-df-quickchart {\n",
              "      --bg-color: #E8F0FE;\n",
              "      --fill-color: #1967D2;\n",
              "      --hover-bg-color: #E2EBFA;\n",
              "      --hover-fill-color: #174EA6;\n",
              "      --disabled-fill-color: #AAA;\n",
              "      --disabled-bg-color: #DDD;\n",
              "  }\n",
              "\n",
              "  [theme=dark] .colab-df-quickchart {\n",
              "      --bg-color: #3B4455;\n",
              "      --fill-color: #D2E3FC;\n",
              "      --hover-bg-color: #434B5C;\n",
              "      --hover-fill-color: #FFFFFF;\n",
              "      --disabled-bg-color: #3B4455;\n",
              "      --disabled-fill-color: #666;\n",
              "  }\n",
              "\n",
              "  .colab-df-quickchart {\n",
              "    background-color: var(--bg-color);\n",
              "    border: none;\n",
              "    border-radius: 50%;\n",
              "    cursor: pointer;\n",
              "    display: none;\n",
              "    fill: var(--fill-color);\n",
              "    height: 32px;\n",
              "    padding: 0;\n",
              "    width: 32px;\n",
              "  }\n",
              "\n",
              "  .colab-df-quickchart:hover {\n",
              "    background-color: var(--hover-bg-color);\n",
              "    box-shadow: 0 1px 2px rgba(60, 64, 67, 0.3), 0 1px 3px 1px rgba(60, 64, 67, 0.15);\n",
              "    fill: var(--button-hover-fill-color);\n",
              "  }\n",
              "\n",
              "  .colab-df-quickchart-complete:disabled,\n",
              "  .colab-df-quickchart-complete:disabled:hover {\n",
              "    background-color: var(--disabled-bg-color);\n",
              "    fill: var(--disabled-fill-color);\n",
              "    box-shadow: none;\n",
              "  }\n",
              "\n",
              "  .colab-df-spinner {\n",
              "    border: 2px solid var(--fill-color);\n",
              "    border-color: transparent;\n",
              "    border-bottom-color: var(--fill-color);\n",
              "    animation:\n",
              "      spin 1s steps(1) infinite;\n",
              "  }\n",
              "\n",
              "  @keyframes spin {\n",
              "    0% {\n",
              "      border-color: transparent;\n",
              "      border-bottom-color: var(--fill-color);\n",
              "      border-left-color: var(--fill-color);\n",
              "    }\n",
              "    20% {\n",
              "      border-color: transparent;\n",
              "      border-left-color: var(--fill-color);\n",
              "      border-top-color: var(--fill-color);\n",
              "    }\n",
              "    30% {\n",
              "      border-color: transparent;\n",
              "      border-left-color: var(--fill-color);\n",
              "      border-top-color: var(--fill-color);\n",
              "      border-right-color: var(--fill-color);\n",
              "    }\n",
              "    40% {\n",
              "      border-color: transparent;\n",
              "      border-right-color: var(--fill-color);\n",
              "      border-top-color: var(--fill-color);\n",
              "    }\n",
              "    60% {\n",
              "      border-color: transparent;\n",
              "      border-right-color: var(--fill-color);\n",
              "    }\n",
              "    80% {\n",
              "      border-color: transparent;\n",
              "      border-right-color: var(--fill-color);\n",
              "      border-bottom-color: var(--fill-color);\n",
              "    }\n",
              "    90% {\n",
              "      border-color: transparent;\n",
              "      border-bottom-color: var(--fill-color);\n",
              "    }\n",
              "  }\n",
              "</style>\n",
              "\n",
              "      <script>\n",
              "        async function quickchart(key) {\n",
              "          const quickchartButtonEl =\n",
              "            document.querySelector('#' + key + ' button');\n",
              "          quickchartButtonEl.disabled = true;  // To prevent multiple clicks.\n",
              "          quickchartButtonEl.classList.add('colab-df-spinner');\n",
              "          try {\n",
              "            const charts = await google.colab.kernel.invokeFunction(\n",
              "                'suggestCharts', [key], {});\n",
              "          } catch (error) {\n",
              "            console.error('Error during call to suggestCharts:', error);\n",
              "          }\n",
              "          quickchartButtonEl.classList.remove('colab-df-spinner');\n",
              "          quickchartButtonEl.classList.add('colab-df-quickchart-complete');\n",
              "        }\n",
              "        (() => {\n",
              "          let quickchartButtonEl =\n",
              "            document.querySelector('#df-f8153d6f-f7a8-47a9-93c1-d37dc291ca3f button');\n",
              "          quickchartButtonEl.style.display =\n",
              "            google.colab.kernel.accessAllowed ? 'block' : 'none';\n",
              "        })();\n",
              "      </script>\n",
              "    </div>\n",
              "\n",
              "    </div>\n",
              "  </div>\n"
            ],
            "application/vnd.google.colaboratory.intrinsic+json": {
              "type": "dataframe",
              "variable_name": "df_roi",
              "repr_error": "Out of range float values are not JSON compliant: inf"
            }
          },
          "metadata": {},
          "execution_count": 4
        }
      ]
    },
    {
      "cell_type": "code",
      "source": [
        "# Amounts are in MILLIONS of dollars (so budget=10 means $10M)\n",
        "# --- Parameters (change if needed) ---\n",
        "budget = 10.0        # total budget in millions\n",
        "platform_cap = 3.0   # per-platform max in millions\n",
        "bigM = budget        # big-M for \"infinite\" tiers (safe because total budget <= budget)\n",
        "\n",
        "# Compute tier widths (maximum amount that can be placed in that tier)\n",
        "def tier_width(row):\n",
        "    if np.isfinite(row['UpperBound']):\n",
        "        return max(0.0, row['UpperBound'] - row['LowerBound'])\n",
        "    else:\n",
        "        return bigM  # allow up to the whole budget for an \"infinite\" tier; platform cap will restrict\n",
        "df_roi['Width'] = df_roi.apply(tier_width, axis=1)\n",
        "\n",
        "# Build model\n",
        "m = gp.Model()"
      ],
      "metadata": {
        "colab": {
          "base_uri": "https://localhost:8080/"
        },
        "id": "aqIUo0ysgN59",
        "outputId": "97446d36-9ccd-4860-befb-87b40d68620a"
      },
      "execution_count": 5,
      "outputs": [
        {
          "output_type": "stream",
          "name": "stdout",
          "text": [
            "Restricted license - for non-production use only - expires 2026-11-23\n"
          ]
        }
      ]
    },
    {
      "cell_type": "code",
      "source": [
        "# Decision vars: amount invested in each tier (millions)\n",
        "vars_by_index = {}\n",
        "for idx, row in df_roi.iterrows():\n",
        "    name = f\"x_{int(idx)}_{row['Platform']}_t{int(row['Tier'])}\"\n",
        "    ub = row['Width']\n",
        "    # some widths could be zero if Upper==Lower; skip creating vars that can't take anything\n",
        "    if ub <= 0:\n",
        "        v = m.addVar(lb=0.0, ub=0.0, name=name)\n",
        "    else:\n",
        "        v = m.addVar(lb=0.0, ub=ub, name=name)\n",
        "    vars_by_index[idx] = v"
      ],
      "metadata": {
        "id": "LgtLZU9TgUer"
      },
      "execution_count": 6,
      "outputs": []
    },
    {
      "cell_type": "code",
      "source": [
        "# Objective: maximize total return = sum(ROI * invested_in_tier)\n",
        "obj_expr = gp.quicksum(df_roi.loc[idx, 'ROI'] * vars_by_index[idx] for idx in vars_by_index)\n",
        "m.setObjective(obj_expr, GRB.MAXIMIZE)"
      ],
      "metadata": {
        "id": "HpbSMCITgXeb"
      },
      "execution_count": 7,
      "outputs": []
    },
    {
      "cell_type": "code",
      "source": [
        "# 1) Total budget constraint\n",
        "m.addConstr(gp.quicksum(vars_by_index[idx] for idx in vars_by_index) <= budget)\n",
        "\n",
        "# Helper: platform -> list of tier indices\n",
        "platform_to_indices = {}\n",
        "for idx, row in df_roi.iterrows():\n",
        "    platform_to_indices.setdefault(row['Platform'], []).append(idx)\n",
        "\n",
        "# 2) Per-platform cap: total invested in each platform <= platform_cap\n",
        "for platform, idx_list in platform_to_indices.items():\n",
        "    m.addConstr(gp.quicksum(vars_by_index[idx] for idx in idx_list) <= platform_cap)\n",
        "\n",
        "# Business constraints:\n",
        "# a) Print + TV <= Facebook + Email\n",
        "def platform_total(platform):\n",
        "    idxs = platform_to_indices.get(platform, [])\n",
        "    return gp.quicksum(vars_by_index[i] for i in idxs)\n",
        "\n",
        "m.addConstr(platform_total('Print') + platform_total('TV') <= platform_total('Facebook') + platform_total('Email'))\n",
        "\n",
        "# b) Social media (Facebook, LinkedIn, Instagram, Snapchat, Twitter) >= 2 * (SEO + AdWords)\n",
        "social_platforms = ['Facebook', 'LinkedIn', 'Instagram', 'Snapchat', 'Twitter']\n",
        "social_sum = gp.quicksum(platform_total(p) for p in social_platforms)\n",
        "m.addConstr(social_sum >= 2.0 * (platform_total('SEO') + platform_total('AdWords')))"
      ],
      "metadata": {
        "colab": {
          "base_uri": "https://localhost:8080/"
        },
        "id": "lW9TZp9idBZl",
        "outputId": "8b55adda-1ad4-460b-db88-d434215fb199"
      },
      "execution_count": 8,
      "outputs": [
        {
          "output_type": "execute_result",
          "data": {
            "text/plain": [
              "<gurobi.Constr *Awaiting Model Update*>"
            ]
          },
          "metadata": {},
          "execution_count": 8
        }
      ]
    },
    {
      "cell_type": "code",
      "source": [
        "# Solve\n",
        "m.Params.OutputFlag = 0 # tell gurobi to shut up!!\n",
        "m.optimize()"
      ],
      "metadata": {
        "id": "_3LsK8f2g72H"
      },
      "execution_count": 9,
      "outputs": []
    },
    {
      "cell_type": "code",
      "source": [
        "# Print results\n",
        "if m.status == GRB.OPTIMAL or m.status == GRB.TIME_LIMIT or m.status == GRB.SUBOPTIMAL:\n",
        "    print('\\n=== Optimal allocation (amounts in MILLIONS) ===')\n",
        "    # Per-platform totals\n",
        "    platform_alloc = {}\n",
        "    for platform, idxs in platform_to_indices.items():\n",
        "        total = sum(vars_by_index[i].X for i in idxs)\n",
        "        platform_alloc[platform] = total\n",
        "        print(f\"{platform:10s}: {total:.4f} (per-tier breakdown below)\")\n",
        "        for i in idxs:\n",
        "            invested = vars_by_index[i].X\n",
        "            if invested > 1e-8:\n",
        "                row = df_roi.loc[i]\n",
        "                print(f\"   tier {int(row['Tier'])}: {invested:.4f}  (ROI={row['ROI']:.4f}, width={row['Width']:.2f})\")\n",
        "    total_invested = sum(v.X for v in vars_by_index.values())\n",
        "    total_return = sum(df_roi.loc[i, 'ROI'] * vars_by_index[i].X for i in vars_by_index)\n",
        "    print(f\"\\nTotal invested: {total_invested:.4f} / {budget:.4f} (M)\")\n",
        "    print(f\"Estimated total return: {total_return:.6f} (in MILLIONS of dollars returned)\")\n",
        "    # If you want dollar-level return, multiply by 1e6\n",
        "else:\n",
        "    print(\"Model did not solve to optimality. Status:\", m.status)"
      ],
      "metadata": {
        "colab": {
          "base_uri": "https://localhost:8080/"
        },
        "id": "1baqiB_ug-rr",
        "outputId": "5e8e1ebd-fcf6-4b9b-bfb0-a9faa8d8c313"
      },
      "execution_count": 10,
      "outputs": [
        {
          "output_type": "stream",
          "name": "stdout",
          "text": [
            "\n",
            "=== Optimal allocation (amounts in MILLIONS) ===\n",
            "Print     : 0.0000 (per-tier breakdown below)\n",
            "TV        : 3.0000 (per-tier breakdown below)\n",
            "   tier 1: 3.0000  (ROI=0.0608, width=4.30)\n",
            "SEO       : 0.0000 (per-tier breakdown below)\n",
            "AdWords   : 1.0000 (per-tier breakdown below)\n",
            "   tier 1: 1.0000  (ROI=0.0419, width=2.00)\n",
            "Facebook  : 0.0000 (per-tier breakdown below)\n",
            "LinkedIn  : 0.0000 (per-tier breakdown below)\n",
            "Instagram : 3.0000 (per-tier breakdown below)\n",
            "   tier 1: 2.9000  (ROI=0.0574, width=2.90)\n",
            "   tier 2: 0.1000  (ROI=0.0498, width=10.00)\n",
            "Snapchat  : 0.0000 (per-tier breakdown below)\n",
            "Twitter   : 0.0000 (per-tier breakdown below)\n",
            "Email     : 3.0000 (per-tier breakdown below)\n",
            "   tier 1: 3.0000  (ROI=0.0493, width=5.90)\n",
            "\n",
            "Total invested: 10.0000 / 10.0000 (M)\n",
            "Estimated total return: 0.543640 (in MILLIONS of dollars returned)\n"
          ]
        }
      ]
    }
  ]
}