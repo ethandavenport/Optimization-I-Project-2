{
  "nbformat": 4,
  "nbformat_minor": 0,
  "metadata": {
    "colab": {
      "provenance": [],
      "authorship_tag": "ABX9TyO0tnYw1uP6BZRq+O7/tH4Q",
      "include_colab_link": true
    },
    "kernelspec": {
      "name": "python3",
      "display_name": "Python 3"
    },
    "language_info": {
      "name": "python"
    }
  },
  "cells": [
    {
      "cell_type": "markdown",
      "metadata": {
        "id": "view-in-github",
        "colab_type": "text"
      },
      "source": [
        "<a href=\"https://colab.research.google.com/github/ethandavenport/Optimization-I-Project-2/blob/main/mip.ipynb\" target=\"_parent\"><img src=\"https://colab.research.google.com/assets/colab-badge.svg\" alt=\"Open In Colab\"/></a>"
      ]
    },
    {
      "cell_type": "code",
      "source": [
        "!pip install gurobipy"
      ],
      "metadata": {
        "colab": {
          "base_uri": "https://localhost:8080/"
        },
        "id": "0XwCUkkcjiQl",
        "outputId": "34961733-20d9-47c1-c2e0-bbec5a6ef8f2"
      },
      "execution_count": 1,
      "outputs": [
        {
          "output_type": "stream",
          "name": "stdout",
          "text": [
            "Collecting gurobipy\n",
            "  Downloading gurobipy-12.0.3-cp312-cp312-manylinux2014_x86_64.manylinux_2_17_x86_64.whl.metadata (16 kB)\n",
            "Downloading gurobipy-12.0.3-cp312-cp312-manylinux2014_x86_64.manylinux_2_17_x86_64.whl (14.3 MB)\n",
            "\u001b[2K   \u001b[90m━━━━━━━━━━━━━━━━━━━━━━━━━━━━━━━━━━━━━━━━\u001b[0m \u001b[32m14.3/14.3 MB\u001b[0m \u001b[31m55.7 MB/s\u001b[0m eta \u001b[36m0:00:00\u001b[0m\n",
            "\u001b[?25hInstalling collected packages: gurobipy\n",
            "Successfully installed gurobipy-12.0.3\n"
          ]
        }
      ]
    },
    {
      "cell_type": "code",
      "source": [
        "import gurobipy as gp\n",
        "from gurobipy import GRB\n",
        "import pandas as pd"
      ],
      "metadata": {
        "id": "AxVhOIBgjiF5"
      },
      "execution_count": 2,
      "outputs": []
    },
    {
      "cell_type": "code",
      "execution_count": 3,
      "metadata": {
        "id": "lDQEcfLJoGgk"
      },
      "outputs": [],
      "source": [
        "url = \"https://raw.githubusercontent.com/ethandavenport/Optimization-I-Project-2/main/roi_company1.csv\"\n",
        "df_roi1 = pd.read_csv(url)\n",
        "\n",
        "url = \"https://raw.githubusercontent.com/ethandavenport/Optimization-I-Project-2/main/roi_company2.csv\"\n",
        "df_roi2 = pd.read_csv(url)\n",
        "\n",
        "url = \"https://raw.githubusercontent.com/ethandavenport/Optimization-I-Project-2/main/roi_monthly.csv\"\n",
        "df_roi_monthly = pd.read_csv(url)\n",
        "\n",
        "url = \"https://raw.githubusercontent.com/ethandavenport/Optimization-I-Project-2/main/min_amount.csv\"\n",
        "df_min = pd.read_csv(url)"
      ]
    }
  ]
}