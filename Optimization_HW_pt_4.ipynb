{
  "nbformat": 4,
  "nbformat_minor": 0,
  "metadata": {
    "colab": {
      "provenance": [],
      "include_colab_link": true
    },
    "kernelspec": {
      "name": "python3",
      "display_name": "Python 3"
    },
    "language_info": {
      "name": "python"
    }
  },
  "cells": [
    {
      "cell_type": "markdown",
      "metadata": {
        "id": "view-in-github",
        "colab_type": "text"
      },
      "source": [
        "<a href=\"https://colab.research.google.com/github/ethandavenport/Optimization-I-Project-2/blob/main/Optimization_HW_pt_4.ipynb\" target=\"_parent\"><img src=\"https://colab.research.google.com/assets/colab-badge.svg\" alt=\"Open In Colab\"/></a>"
      ]
    },
    {
      "cell_type": "code",
      "execution_count": 1,
      "metadata": {
        "id": "jKOUnaoKnmKt",
        "outputId": "7e188b00-fb59-4bf5-ded9-d636130608e4",
        "colab": {
          "base_uri": "https://localhost:8080/"
        }
      },
      "outputs": [
        {
          "output_type": "stream",
          "name": "stdout",
          "text": [
            "Collecting gurobipy\n",
            "  Downloading gurobipy-12.0.3-cp312-cp312-manylinux2014_x86_64.manylinux_2_17_x86_64.whl.metadata (16 kB)\n",
            "Downloading gurobipy-12.0.3-cp312-cp312-manylinux2014_x86_64.manylinux_2_17_x86_64.whl (14.3 MB)\n",
            "\u001b[2K   \u001b[90m━━━━━━━━━━━━━━━━━━━━━━━━━━━━━━━━━━━━━━━━\u001b[0m \u001b[32m14.3/14.3 MB\u001b[0m \u001b[31m26.7 MB/s\u001b[0m eta \u001b[36m0:00:00\u001b[0m\n",
            "\u001b[?25hInstalling collected packages: gurobipy\n",
            "Successfully installed gurobipy-12.0.3\n"
          ]
        }
      ],
      "source": [
        "!pip install gurobipy"
      ]
    },
    {
      "cell_type": "code",
      "source": [
        "import gurobipy as gp\n",
        "from gurobipy import GRB\n",
        "import pandas as pd\n",
        "import numpy as np"
      ],
      "metadata": {
        "id": "aYfGdpY3og0g"
      },
      "execution_count": 2,
      "outputs": []
    },
    {
      "cell_type": "code",
      "source": [
        "url2 = \"https://raw.githubusercontent.com/ethandavenport/Optimization-I-Project-2/refs/heads/main/roi_company2.csv\"\n",
        "df_roi2 = pd.read_csv(url2)\n",
        "\n",
        "# -----------------------------\n",
        "# SETUP (amounts in MILLIONS)\n",
        "# -----------------------------\n",
        "budget = 10.0        # total budget in millions\n",
        "platform_cap = 3.0   # per-platform max in millions\n",
        "bigM = budget        # safe big-M for \"inf\" tiers\n",
        "\n",
        "# Ensure Width exists (based on df_roi2)\n",
        "def tier_width(row):\n",
        "    if np.isfinite(row['UpperBound']):\n",
        "        return max(0.0, row['UpperBound'] - row['LowerBound'])\n",
        "    else:\n",
        "        return bigM  # allow up to whole budget for \"inf\"\n",
        "df2 = df_roi2.copy()\n",
        "df2['Width'] = df2.apply(tier_width, axis=1)\n",
        "\n",
        "# -----------------------------\n",
        "# BUILD MODEL FROM df_roi2 ONLY\n",
        "# -----------------------------\n",
        "m = gp.Model()\n",
        "m.Params.OutputFlag = 0\n",
        "\n",
        "# Decision vars: amount invested in each tier (millions)\n",
        "vars_by_index = {}\n",
        "for idx, row in df2.iterrows():\n",
        "    name = f\"x_{int(idx)}_{row['Platform']}_t{int(row['Tier'])}\"\n",
        "    ub = float(row['Width'])\n",
        "    # keep same pattern as your LP\n",
        "    if ub <= 0:\n",
        "        v = m.addVar(lb=0.0, ub=0.0, name=name)\n",
        "    else:\n",
        "        v = m.addVar(lb=0.0, ub=ub, name=name)\n",
        "    vars_by_index[idx] = v\n",
        "\n",
        "# Objective: maximize total return = sum(ROI * invested_in_tier)\n",
        "obj_expr = gp.quicksum(df2.loc[idx, 'ROI'] * vars_by_index[idx] for idx in vars_by_index)\n",
        "m.setObjective(obj_expr, GRB.MAXIMIZE)\n",
        "\n",
        "# Helper: platform -> list of tier indices (built from df_roi2)\n",
        "platform_to_indices = {}\n",
        "for idx, row in df2.iterrows():\n",
        "    platform_to_indices.setdefault(row['Platform'], []).append(idx)\n",
        "\n",
        "# -----------------------------\n",
        "# SAME BUSINESS CONSTRAINTS\n",
        "# -----------------------------\n",
        "# 1) Total budget\n",
        "m.addConstr(gp.quicksum(vars_by_index[idx] for idx in vars_by_index) <= budget)\n",
        "\n",
        "# 2) Per-platform cap\n",
        "for platform, idx_list in platform_to_indices.items():\n",
        "    m.addConstr(gp.quicksum(vars_by_index[idx] for idx in idx_list) <= platform_cap)\n",
        "\n",
        "# (a) Print + TV <= Facebook + Email\n",
        "def platform_total(p):\n",
        "    idxs = platform_to_indices.get(p, [])\n",
        "    return gp.quicksum(vars_by_index[i] for i in idxs)\n",
        "\n",
        "m.addConstr(\n",
        "    platform_total('Print') + platform_total('TV')\n",
        "    <= platform_total('Facebook') + platform_total('Email')\n",
        ")\n",
        "\n",
        "# (b) Social >= 2 * (SEO + AdWords)\n",
        "social_platforms = ['Facebook', 'LinkedIn', 'Instagram', 'Snapchat', 'Twitter']\n",
        "social_sum = gp.quicksum(platform_total(p) for p in social_platforms)\n",
        "m.addConstr(social_sum >= 2.0 * (platform_total('SEO') + platform_total('AdWords')))\n",
        "\n",
        "# -----------------------------\n",
        "# MIP ADD-ON: NO SKIPPING\n",
        "# -----------------------------\n",
        "# 1) Binary activation per tier\n",
        "z_by_index = {}\n",
        "for idx, row in df2.iterrows():\n",
        "    z_by_index[idx] = m.addVar(vtype=GRB.BINARY,\n",
        "                               name=f\"z_{int(idx)}_{row['Platform']}_t{int(row['Tier'])}\")\n",
        "\n",
        "# 2) Gate: no spend unless tier is on\n",
        "for idx, row in df2.iterrows():\n",
        "    m.addConstr(vars_by_index[idx] <= row['Width'] * z_by_index[idx],\n",
        "                name=f\"gate_{int(idx)}_{row['Platform']}_t{int(row['Tier'])}\")\n",
        "\n",
        "# 3) Chain (no activation skipping): if higher tier is on, lower must be on  -> z_prev >= z_next\n",
        "for platform, idx_list in platform_to_indices.items():\n",
        "    idx_list_sorted = sorted(\n",
        "        idx_list,\n",
        "        key=lambda k: (float(df2.loc[k, 'LowerBound']), int(df2.loc[k, 'Tier']))\n",
        "    )\n",
        "    for prev_idx, next_idx in zip(idx_list_sorted[:-1], idx_list_sorted[1:]):\n",
        "        m.addConstr(z_by_index[prev_idx] >= z_by_index[next_idx],\n",
        "                    name=f\"order_{platform}_t{int(df2.loc[prev_idx,'Tier'])}_to_t{int(df2.loc[next_idx,'Tier'])}\")\n",
        "\n",
        "# 4) Fill-up (no spend skipping): must fully fund tier j before any spend in tier j+1\n",
        "for platform, idx_list in platform_to_indices.items():\n",
        "    idx_list_sorted = sorted(\n",
        "        idx_list,\n",
        "        key=lambda k: (float(df2.loc[k, 'LowerBound']), int(df2.loc[k, 'Tier']))\n",
        "    )\n",
        "    for prev_idx, next_idx in zip(idx_list_sorted[:-1], idx_list_sorted[1:]):\n",
        "        m.addConstr(\n",
        "            vars_by_index[prev_idx] >= df2.loc[prev_idx, 'Width'] * z_by_index[next_idx],\n",
        "            name=f\"fill_{platform}_t{int(df2.loc[prev_idx,'Tier'])}_before_t{int(df2.loc[next_idx,'Tier'])}\"\n",
        "        )\n",
        "\n",
        "\n",
        "\n",
        "# -----------------------------\n",
        "# SOLVE + CLEAN REPORT\n",
        "# -----------------------------\n",
        "m.optimize()\n",
        "\n",
        "EPS = 1e-9\n",
        "print(f\"Objective (total return): {m.objVal:,.6f}\")\n",
        "for platform, idx_list in platform_to_indices.items():\n",
        "    invested = sum(vars_by_index[i].X for i in idx_list)\n",
        "    tiers_on = sorted([int(df2.loc[i, 'Tier']) for i in idx_list if vars_by_index[i].X > EPS])\n",
        "    print(f\"{platform:12s}  invested={invested:,.3f}M   tiers_on={tiers_on}\")\n"
      ],
      "metadata": {
        "colab": {
          "base_uri": "https://localhost:8080/"
        },
        "id": "33aHki4hS7_s",
        "outputId": "5a73436f-6fcf-4ce5-a55b-b866b895a267"
      },
      "execution_count": 72,
      "outputs": [
        {
          "output_type": "stream",
          "name": "stdout",
          "text": [
            "Objective (total return): 0.452827\n",
            "Print         invested=3.000M   tiers_on=[1, 2]\n",
            "TV            invested=0.000M   tiers_on=[]\n",
            "SEO           invested=0.000M   tiers_on=[]\n",
            "AdWords       invested=2.333M   tiers_on=[1, 2]\n",
            "Facebook      invested=3.000M   tiers_on=[1]\n",
            "LinkedIn      invested=1.667M   tiers_on=[1]\n",
            "Instagram     invested=0.000M   tiers_on=[]\n",
            "Snapchat      invested=0.000M   tiers_on=[]\n",
            "Twitter       invested=0.000M   tiers_on=[]\n",
            "Email         invested=0.000M   tiers_on=[]\n"
          ]
        }
      ]
    }
  ]
}